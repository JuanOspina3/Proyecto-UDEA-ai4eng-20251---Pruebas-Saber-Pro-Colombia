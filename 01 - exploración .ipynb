{
 "cells": [
  {
   "cell_type": "markdown",
   "id": "9a75388c",
   "metadata": {},
   "source": [
    "# Exploración inicial de datos - AI4ENG 2025-1"
   ]
  },
  {
   "cell_type": "code",
   "execution_count": null,
   "id": "b7b41985",
   "metadata": {},
   "outputs": [],
   "source": [
    "import pandas as pd\n",
    "import matplotlib.pyplot as plt\n",
    "import seaborn as sns\n",
    "%matplotlib inline"
   ]
  },
  {
   "cell_type": "code",
   "execution_count": null,
   "id": "7dd5e3e9",
   "metadata": {},
   "outputs": [],
   "source": [
    "df = pd.read_csv(\"train.csv\")\n",
    "df.head()"
   ]
  },
  {
   "cell_type": "code",
   "execution_count": null,
   "id": "af540eb4",
   "metadata": {},
   "outputs": [],
   "source": [
    "df.info()"
   ]
  },
  {
   "cell_type": "code",
   "execution_count": null,
   "id": "6fa27da7",
   "metadata": {},
   "outputs": [],
   "source": [
    "df.describe()"
   ]
  },
  {
   "cell_type": "code",
   "execution_count": null,
   "id": "0cc6da67",
   "metadata": {},
   "outputs": [],
   "source": [
    "df['RENDIMIENTO_GLOBAL'].value_counts()"
   ]
  },
  {
   "cell_type": "code",
   "execution_count": null,
   "id": "c7076694",
   "metadata": {},
   "outputs": [],
   "source": [
    "import seaborn as sns\n",
    "import matplotlib.pyplot as plt\n",
    "plt.figure(figsize=(10, 6))\n",
    "sns.countplot(data=df, x='RENDIMIENTO_GLOBAL', order=df['RENDIMIENTO_GLOBAL'].value_counts().index)\n",
    "plt.title('Distribución del RENDIMIENTO_GLOBAL')\n",
    "plt.xlabel('Rendimiento')\n",
    "plt.ylabel('Cantidad')\n",
    "plt.xticks(rotation=45)\n",
    "plt.tight_layout()\n",
    "plt.show()"
   ]
  },
  {
   "cell_type": "code",
   "execution_count": null,
   "id": "ce8be182",
   "metadata": {},
   "outputs": [],
   "source": [
    "df['ESTU_PRGM_ACADEMICO'].value_counts().head(10)"
   ]
  },
  {
   "cell_type": "code",
   "execution_count": null,
   "id": "ddb20fcd",
   "metadata": {},
   "outputs": [],
   "source": [
    "df['ESTU_PRGM_DEPARTAMENTO'].value_counts().head(10)"
   ]
  }
 ],
 "metadata": {},
 "nbformat": 4,
 "nbformat_minor": 5
}
