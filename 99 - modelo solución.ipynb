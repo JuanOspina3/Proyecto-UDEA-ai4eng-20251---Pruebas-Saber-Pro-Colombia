{
 "cells": [
  {
   "cell_type": "code",
   "execution_count": null,
   "id": "fc793f20",
   "metadata": {},
   "outputs": [],
   "source": [
    "# 📦 Importación de librerías\n",
    "import pandas as pd\n",
    "import numpy as np\n",
    "from sklearn.model_selection import train_test_split, StratifiedKFold, RandomizedSearchCV\n",
    "from sklearn.pipeline import Pipeline\n",
    "from sklearn.compose import ColumnTransformer\n",
    "from sklearn.impute import SimpleImputer\n",
    "from sklearn.preprocessing import OrdinalEncoder\n",
    "from sklearn.ensemble import HistGradientBoostingClassifier\n",
    "from sklearn.metrics import accuracy_score"
   ]
  },
  {
   "cell_type": "code",
   "execution_count": null,
   "id": "1081c02f",
   "metadata": {},
   "outputs": [],
   "source": [
    "# 📂 Carga de datos\n",
    "train = pd.read_csv(r\"C:\\Users\\juan2\\OneDrive\\Escritorio\\train.csv\")\n",
    "test = pd.read_csv(r\"C:\\Users\\juan2\\OneDrive\\Escritorio\\test.csv\")\n",
    "\n",
    "X = train.drop(columns=[\"RENDIMIENTO_GLOBAL\"])\n",
    "y = train[\"RENDIMIENTO_GLOBAL\"]\n",
    "test_ids = test[\"ID\"]"
   ]
  },
  {
   "cell_type": "code",
   "execution_count": null,
   "id": "77e951b9",
   "metadata": {},
   "outputs": [],
   "source": [
    "# 🔍 Identificar columnas categóricas\n",
    "cat_cols = X.select_dtypes(include=[\"object\", \"category\"]).columns.tolist()"
   ]
  },
  {
   "cell_type": "code",
   "execution_count": null,
   "id": "2de2c1d6",
   "metadata": {},
   "outputs": [],
   "source": [
    "# ⚙️ Preprocesamiento\n",
    "preprocessor = ColumnTransformer([\n",
    "    (\"cat\", Pipeline([\n",
    "        (\"imputer\", SimpleImputer(strategy=\"most_frequent\")),\n",
    "        (\"encoder\", OrdinalEncoder(handle_unknown=\"use_encoded_value\", unknown_value=-1))\n",
    "    ]), cat_cols)\n",
    "], remainder=\"passthrough\")"
   ]
  },
  {
   "cell_type": "code",
   "execution_count": null,
   "id": "071e5067",
   "metadata": {},
   "outputs": [],
   "source": [
    "# 🔗 Crear pipeline de modelado\n",
    "pipe = Pipeline([\n",
    "    (\"pre\", preprocessor),\n",
    "    (\"clf\", HistGradientBoostingClassifier(random_state=42))\n",
    "])"
   ]
  },
  {
   "cell_type": "code",
   "execution_count": null,
   "id": "d18853f2",
   "metadata": {},
   "outputs": [],
   "source": [
    "# 🔧 Espacio de búsqueda de hiperparámetros\n",
    "param_dist = {\n",
    "    \"clf__learning_rate\": [0.01, 0.05, 0.1],\n",
    "    \"clf__max_iter\": [100, 200, 300, 400],\n",
    "    \"clf__max_depth\": [5, 10, 15],\n",
    "    \"clf__min_samples_leaf\": [10, 20, 50]\n",
    "}"
   ]
  },
  {
   "cell_type": "code",
   "execution_count": null,
   "id": "0d1b5d4d",
   "metadata": {},
   "outputs": [],
   "source": [
    "# 🔍 Búsqueda aleatoria con validación cruzada\n",
    "search = RandomizedSearchCV(\n",
    "    pipe,\n",
    "    param_distributions=param_dist,\n",
    "    n_iter=20,\n",
    "    cv=StratifiedKFold(n_splits=3),\n",
    "    scoring=\"accuracy\",\n",
    "    verbose=2,\n",
    "    n_jobs=-1,\n",
    "    random_state=42\n",
    ")"
   ]
  },
  {
   "cell_type": "code",
   "execution_count": null,
   "id": "20db1158",
   "metadata": {},
   "outputs": [],
   "source": [
    "# 🧪 División en conjunto de entrenamiento y validación\n",
    "X_train, X_val, y_train, y_val = train_test_split(\n",
    "    X, y, test_size=0.2, stratify=y, random_state=42\n",
    ")"
   ]
  },
  {
   "cell_type": "code",
   "execution_count": null,
   "id": "0d6672df",
   "metadata": {},
   "outputs": [],
   "source": [
    "# 🚀 Entrenamiento del modelo con búsqueda de hiperparámetros\n",
    "search.fit(X_train, y_train)\n",
    "\n",
    "print(\"\\n📌 Mejor combinación encontrada:\")\n",
    "print(search.best_params_)"
   ]
  },
  {
   "cell_type": "code",
   "execution_count": null,
   "id": "c21cb500",
   "metadata": {},
   "outputs": [],
   "source": [
    "# 📊 Evaluación sobre conjunto de validación\n",
    "y_pred = search.predict(X_val)\n",
    "acc = accuracy_score(y_val, y_pred)\n",
    "print(f\"\\n📊 Accuracy en validación: {acc:.5f}\")"
   ]
  },
  {
   "cell_type": "code",
   "execution_count": null,
   "id": "3517b4fc",
   "metadata": {},
   "outputs": [],
   "source": [
    "# 🏁 Entrenamiento final sobre todo el conjunto de entrenamiento\n",
    "search.best_estimator_.fit(X, y)"
   ]
  },
  {
   "cell_type": "code",
   "execution_count": null,
   "id": "dbb795f8",
   "metadata": {},
   "outputs": [],
   "source": [
    "# 📈 Predicción sobre conjunto de test\n",
    "y_test_pred = search.best_estimator_.predict(test)"
   ]
  },
  {
   "cell_type": "code",
   "execution_count": null,
   "id": "d134a909",
   "metadata": {},
   "outputs": [],
   "source": [
    "# 💾 Guardar predicciones en archivo CSV\n",
    "submission = pd.DataFrame({\n",
    "    \"ID\": test_ids,\n",
    "    \"RENDIMIENTO_GLOBAL\": y_test_pred\n",
    "})\n",
    "submission.to_csv(r\"C:\\Users\\juan2\\OneDrive\\Escritorio\\submission.csv\", index=False)\n",
    "\n",
    "print(\"\\n✅ submission.csv generado con el modelo ajustado.\")"
   ]
  }
 ],
 "metadata": {},
 "nbformat": 4,
 "nbformat_minor": 5
}
