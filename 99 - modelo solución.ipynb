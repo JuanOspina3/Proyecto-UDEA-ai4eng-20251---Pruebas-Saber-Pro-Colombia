{
  "nbformat": 4,
  "nbformat_minor": 0,
  "metadata": {
    "colab": {
      "provenance": [],
      "authorship_tag": "ABX9TyOh1sLQH8UJyPNg22ivhUwL",
      "include_colab_link": true
    },
    "kernelspec": {
      "name": "python3",
      "display_name": "Python 3"
    },
    "language_info": {
      "name": "python"
    }
  },
  "cells": [
    {
      "cell_type": "markdown",
      "metadata": {
        "id": "view-in-github",
        "colab_type": "text"
      },
      "source": [
        "<a href=\"https://colab.research.google.com/github/JuanOspina3/Proyecto-UDEA-ai4eng-20251---Pruebas-Saber-Pro-Colombia/blob/main/99%20-%20modelo%20soluci%C3%B3n.ipynb\" target=\"_parent\"><img src=\"https://colab.research.google.com/assets/colab-badge.svg\" alt=\"Open In Colab\"/></a>"
      ]
    },
    {
      "cell_type": "code",
      "execution_count": null,
      "metadata": {
        "id": "L6dSacnxCNfC"
      },
      "outputs": [],
      "source": [
        "import pandas as pd\n",
        "import numpy as np\n",
        "from sklearn.model_selection import train_test_split, StratifiedKFold, RandomizedSearchCV\n",
        "from sklearn.pipeline import Pipeline\n",
        "from sklearn.compose import ColumnTransformer\n",
        "from sklearn.impute import SimpleImputer\n",
        "from sklearn.preprocessing import OrdinalEncoder\n",
        "from sklearn.ensemble import HistGradientBoostingClassifier\n",
        "from sklearn.metrics import accuracy_score\n",
        "\n",
        "# ===============================\n",
        "# 1. CARGA DE DATOS\n",
        "# ===============================\n",
        "train = pd.read_csv(r\"C:\\Users\\juan2\\OneDrive\\Escritorio\\train.csv\")\n",
        "test = pd.read_csv(r\"C:\\Users\\juan2\\OneDrive\\Escritorio\\test.csv\")\n",
        "\n",
        "X = train.drop(columns=[\"RENDIMIENTO_GLOBAL\"])\n",
        "y = train[\"RENDIMIENTO_GLOBAL\"]\n",
        "test_ids = test[\"ID\"]\n",
        "\n",
        "# ===============================\n",
        "# 2. PREPROCESAMIENTO\n",
        "# ===============================\n",
        "cat_cols = X.select_dtypes(include=[\"object\", \"category\"]).columns.tolist()\n",
        "\n",
        "preprocessor = ColumnTransformer([\n",
        "    (\"cat\", Pipeline([\n",
        "        (\"imputer\", SimpleImputer(strategy=\"most_frequent\")),\n",
        "        (\"encoder\", OrdinalEncoder(handle_unknown=\"use_encoded_value\", unknown_value=-1))\n",
        "    ]), cat_cols)\n",
        "], remainder=\"passthrough\")\n",
        "\n",
        "# ===============================\n",
        "# 3. MODELO Y PIPELINE\n",
        "# ===============================\n",
        "pipe = Pipeline([\n",
        "    (\"pre\", preprocessor),\n",
        "    (\"clf\", HistGradientBoostingClassifier(random_state=42))\n",
        "])\n",
        "\n",
        "# ===============================\n",
        "# 4. BÚSQUEDA DE HIPERPARÁMETROS\n",
        "# ===============================\n",
        "param_dist = {\n",
        "    \"clf__learning_rate\": [0.01, 0.05, 0.1],\n",
        "    \"clf__max_iter\": [100, 200, 300, 400],\n",
        "    \"clf__max_depth\": [5, 10, 15],\n",
        "    \"clf__min_samples_leaf\": [10, 20, 50]\n",
        "}\n",
        "\n",
        "search = RandomizedSearchCV(\n",
        "    pipe,\n",
        "    param_distributions=param_dist,\n",
        "    n_iter=20,\n",
        "    cv=StratifiedKFold(n_splits=3),\n",
        "    scoring=\"accuracy\",\n",
        "    verbose=2,\n",
        "    n_jobs=-1,\n",
        "    random_state=42\n",
        ")\n",
        "\n",
        "# ===============================\n",
        "# 5. VALIDACIÓN Y ENTRENAMIENTO\n",
        "# ===============================\n",
        "X_train, X_val, y_train, y_val = train_test_split(\n",
        "    X, y, test_size=0.2, stratify=y, random_state=42\n",
        ")\n",
        "\n",
        "search.fit(X_train, y_train)\n",
        "print(\"\\n\\U0001F4CC Mejor combinación encontrada:\")\n",
        "print(search.best_params_)\n",
        "\n",
        "y_pred = search.predict(X_val)\n",
        "acc = accuracy_score(y_val, y_pred)\n",
        "print(f\"\\n\\U0001F4CA Accuracy en validación: {acc:.5f}\")\n",
        "\n",
        "# ===============================\n",
        "# 6. ENTREGA FINAL\n",
        "# ===============================\n",
        "search.best_estimator_.fit(X, y)\n",
        "y_test_pred = search.best_estimator_.predict(test)\n",
        "\n",
        "submission = pd.DataFrame({\n",
        "    \"ID\": test_ids,\n",
        "    \"RENDIMIENTO_GLOBAL\": y_test_pred\n",
        "})\n",
        "submission.to_csv(r\"C:\\Users\\juan2\\OneDrive\\Escritorio\\submission.csv\", index=False)\n",
        "print(\"\\n✅ submission.csv generado con el modelo ajustado.\")\n"
      ]
    }
  ]
}