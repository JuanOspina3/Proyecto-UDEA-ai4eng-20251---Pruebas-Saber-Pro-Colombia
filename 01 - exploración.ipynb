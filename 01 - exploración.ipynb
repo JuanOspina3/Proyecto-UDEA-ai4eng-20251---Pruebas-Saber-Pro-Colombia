{
 "cells": [
  {
   "cell_type": "markdown",
   "id": "ae764a96",
   "metadata": {},
   "source": [
    "# Exploración inicial de datos - AI4ENG 2025-1"
   ]
  },
  {
   "cell_type": "code",
   "execution_count": null,
   "id": "447997c3",
   "metadata": {},
   "outputs": [],
   "source": [
    "import pandas as pd\n",
    "import matplotlib.pyplot as plt\n",
    "import seaborn as sns\n",
    "%matplotlib inline"
   ]
  },
  {
   "cell_type": "code",
   "execution_count": null,
   "id": "34e8ead8",
   "metadata": {},
   "outputs": [],
   "source": [
    "df = pd.read_csv(\"C:/Users/juan2/OneDrive/Escritorio/train.csv")\n",
    "df.head()"
   ]
  },
  {
   "cell_type": "code",
   "execution_count": null,
   "id": "734708b8",
   "metadata": {},
   "outputs": [],
   "source": [
    "df.info()"
   ]
  },
  {
   "cell_type": "code",
   "execution_count": null,
   "id": "bc95144f",
   "metadata": {},
   "outputs": [],
   "source": [
    "df.describe()"
   ]
  },
  {
   "cell_type": "code",
   "execution_count": null,
   "id": "30c8139d",
   "metadata": {},
   "outputs": [],
   "source": [
    "df['CLASE'].value_counts()"
   ]
  },
  {
   "cell_type": "code",
   "execution_count": null,
   "id": "e1784d74",
   "metadata": {},
   "outputs": [],
   "source": [
    "sns.countplot(data=df, x='CLASE')\n",
    "plt.title('Distribución de clases en los estudiantes')\n",
    "plt.xlabel('Clase')\n",
    "plt.ylabel('Cantidad')\n",
    "plt.xticks(rotation=45)\n",
    "plt.tight_layout()\n",
    "plt.show()"
   ]
  },
  {
   "cell_type": "code",
   "execution_count": null,
   "id": "e05399b0",
   "metadata": {},
   "outputs": [],
   "source": [
    "if 'DEPARTAMENTO' in df.columns:\n",
    "    print(\"Distribución por DEPARTAMENTO:\")\n",
    "    print(df['DEPARTAMENTO'].value_counts().head(10))"
   ]
  },
  {
   "cell_type": "code",
   "execution_count": null,
   "id": "68aea667",
   "metadata": {},
   "outputs": [],
   "source": [
    "if 'MUNICIPIO' in df.columns:\n",
    "    print(\"Distribución por MUNICIPIO:\")\n",
    "    print(df['MUNICIPIO'].value_counts().head(10))"
   ]
  },
  {
   "cell_type": "code",
   "execution_count": null,
   "id": "416a565e",
   "metadata": {},
   "outputs": [],
   "source": [
    "if 'GENERO' in df.columns:\n",
    "    print(\"Distribución por GENERO:\")\n",
    "    print(df['GENERO'].value_counts().head(10))"
   ]
  }
 ],
 "metadata": {},
 "nbformat": 4,
 "nbformat_minor": 5
}
