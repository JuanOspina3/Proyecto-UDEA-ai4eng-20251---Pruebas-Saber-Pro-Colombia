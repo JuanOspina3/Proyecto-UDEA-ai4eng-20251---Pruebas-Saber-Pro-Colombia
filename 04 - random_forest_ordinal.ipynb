{
  "nbformat": 4,
  "nbformat_minor": 0,
  "metadata": {
    "colab": {
      "provenance": [],
      "authorship_tag": "ABX9TyNXvtAS0dBpwGLzi7grtmpo",
      "include_colab_link": true
    },
    "kernelspec": {
      "name": "python3",
      "display_name": "Python 3"
    },
    "language_info": {
      "name": "python"
    }
  },
  "cells": [
    {
      "cell_type": "markdown",
      "metadata": {
        "id": "view-in-github",
        "colab_type": "text"
      },
      "source": [
        "<a href=\"https://colab.research.google.com/github/JuanOspina3/Proyecto-UDEA-ai4eng-20251---Pruebas-Saber-Pro-Colombia/blob/main/04%20-%20random_forest_ordinal.ipynb\" target=\"_parent\"><img src=\"https://colab.research.google.com/assets/colab-badge.svg\" alt=\"Open In Colab\"/></a>"
      ]
    },
    {
      "cell_type": "code",
      "execution_count": null,
      "metadata": {
        "id": "HKSTaE47E9Ig"
      },
      "outputs": [],
      "source": [
        "# 📦 Importación de librerías\n",
        "import pandas as pd\n",
        "import numpy as np\n",
        "from sklearn.model_selection import train_test_split\n",
        "from sklearn.pipeline import Pipeline\n",
        "from sklearn.compose import ColumnTransformer\n",
        "from sklearn.impute import SimpleImputer\n",
        "from sklearn.preprocessing import OrdinalEncoder\n",
        "from sklearn.ensemble import RandomForestClassifier\n",
        "from sklearn.metrics import accuracy_score\n",
        "\n",
        "# 📂 Carga de datos\n",
        "train = pd.read_csv(r\"C:\\Users\\juan2\\OneDrive\\Escritorio\\train.csv\")\n",
        "test = pd.read_csv(r\"C:\\Users\\juan2\\OneDrive\\Escritorio\\test.csv\")\n",
        "\n",
        "X = train.drop(columns=[\"RENDIMIENTO_GLOBAL\"])\n",
        "y = train[\"RENDIMIENTO_GLOBAL\"]\n",
        "test_ids = test[\"ID\"]\n",
        "\n",
        "# 🔍 Columnas categóricas\n",
        "cat_cols = X.select_dtypes(include=[\"object\", \"category\"]).columns.tolist()\n",
        "\n",
        "# ⚙️ Preprocesamiento (solo categóricas)\n",
        "preprocessor = ColumnTransformer([\n",
        "    (\"cat\", Pipeline([\n",
        "        (\"imputer\", SimpleImputer(strategy=\"most_frequent\")),\n",
        "        (\"encoder\", OrdinalEncoder(handle_unknown=\"use_encoded_value\", unknown_value=-1))\n",
        "    ]), cat_cols)\n",
        "], remainder=\"passthrough\")\n",
        "\n",
        "# 🔗 Pipeline del modelo con Random Forest\n",
        "model = Pipeline([\n",
        "    (\"pre\", preprocessor),\n",
        "    (\"clf\", RandomForestClassifier(\n",
        "        n_estimators=200,\n",
        "        max_depth=15,\n",
        "        random_state=42,\n",
        "        n_jobs=-1\n",
        "    ))\n",
        "])\n",
        "\n",
        "# 🧪 División de datos\n",
        "X_train, X_val, y_train, y_val = train_test_split(\n",
        "    X, y, stratify=y, test_size=0.2, random_state=42\n",
        ")\n",
        "\n",
        "# 🚀 Entrenamiento y evaluación\n",
        "model.fit(X_train, y_train)\n",
        "y_pred = model.predict(X_val)\n",
        "acc = accuracy_score(y_val, y_pred)\n",
        "print(f\"\\n📊 Accuracy en validación (Random Forest): {acc:.5f}\")\n",
        "\n",
        "# 🏁 Entrenamiento final sobre todo el dataset\n",
        "model.fit(X, y)\n",
        "y_test_pred = model.predict(test)\n",
        "\n",
        "# 💾 Exportar predicciones a CSV para Kaggle\n",
        "submission = pd.DataFrame({\n",
        "    \"ID\": test_ids,\n",
        "    \"RENDIMIENTO_GLOBAL\": y_test_pred\n",
        "})\n",
        "submission.to_csv(r\"C:\\Users\\juan2\\OneDrive\\Escritorio\\submission_rf.csv\", index=False)\n",
        "print(\"\\n✅ Archivo submission_rf.csv guardado correctamente.\")\n"
      ]
    }
  ]
}