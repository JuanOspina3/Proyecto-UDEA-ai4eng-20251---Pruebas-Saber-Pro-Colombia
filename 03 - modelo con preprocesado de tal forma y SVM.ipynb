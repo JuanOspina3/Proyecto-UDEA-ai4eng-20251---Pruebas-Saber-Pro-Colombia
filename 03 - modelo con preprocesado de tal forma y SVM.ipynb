{
  "nbformat": 4,
  "nbformat_minor": 0,
  "metadata": {
    "colab": {
      "provenance": [],
      "authorship_tag": "ABX9TyOU9A15xxrL5kOLgL//JHjH",
      "include_colab_link": true
    },
    "kernelspec": {
      "name": "python3",
      "display_name": "Python 3"
    },
    "language_info": {
      "name": "python"
    }
  },
  "cells": [
    {
      "cell_type": "markdown",
      "metadata": {
        "id": "view-in-github",
        "colab_type": "text"
      },
      "source": [
        "<a href=\"https://colab.research.google.com/github/JuanOspina3/Proyecto-UDEA-ai4eng-20251---Pruebas-Saber-Pro-Colombia/blob/main/03%20-%20modelo%20con%20preprocesado%20de%20tal%20forma%20y%20SVM.ipynb\" target=\"_parent\"><img src=\"https://colab.research.google.com/assets/colab-badge.svg\" alt=\"Open In Colab\"/></a>"
      ]
    },
    {
      "cell_type": "code",
      "execution_count": null,
      "metadata": {
        "id": "-zJTZhxZCj5W"
      },
      "outputs": [],
      "source": [
        "import pandas as pd\n",
        "import numpy as np\n",
        "from sklearn.pipeline import Pipeline\n",
        "from sklearn.compose import ColumnTransformer\n",
        "from sklearn.preprocessing import OneHotEncoder, StandardScaler\n",
        "from sklearn.impute import SimpleImputer\n",
        "from sklearn.svm import LinearSVC\n",
        "from sklearn.model_selection import train_test_split\n",
        "from sklearn.metrics import accuracy_score\n",
        "\n",
        "# Carga de datos\n",
        "train = pd.read_csv(r\"C:\\Users\\juan2\\OneDrive\\Escritorio\\train.csv\")\n",
        "test = pd.read_csv(r\"C:\\Users\\juan2\\OneDrive\\Escritorio\\test.csv\")\n",
        "\n",
        "X = train.drop(columns=[\"RENDIMIENTO_GLOBAL\"])\n",
        "y = train[\"RENDIMIENTO_GLOBAL\"]\n",
        "test_ids = test[\"ID\"]\n",
        "\n",
        "# Columnas categóricas y numéricas\n",
        "cat_cols = X.select_dtypes(include=[\"object\", \"category\"]).columns.tolist()\n",
        "num_cols = X.select_dtypes(include=[\"int64\", \"float64\"]).columns.tolist()\n",
        "\n",
        "# Preprocesador\n",
        "preprocessor = ColumnTransformer([\n",
        "    (\"num\", Pipeline([\n",
        "        (\"imputer\", SimpleImputer(strategy=\"mean\")),\n",
        "        (\"scaler\", StandardScaler())\n",
        "    ]), num_cols),\n",
        "\n",
        "    (\"cat\", Pipeline([\n",
        "        (\"imputer\", SimpleImputer(strategy=\"most_frequent\")),\n",
        "        (\"onehot\", OneHotEncoder(handle_unknown=\"ignore\", sparse_output=False))\n",
        "    ]), cat_cols)\n",
        "])\n",
        "\n",
        "# Modelo final\n",
        "model = Pipeline([\n",
        "    (\"pre\", preprocessor),\n",
        "    (\"clf\", LinearSVC(max_iter=10000))\n",
        "])\n",
        "\n",
        "# División de datos\n",
        "X_train, X_val, y_train, y_val = train_test_split(X, y, stratify=y, random_state=42)\n",
        "\n",
        "# Entrenamiento y validación\n",
        "model.fit(X_train, y_train)\n",
        "y_pred = model.predict(X_val)\n",
        "acc = accuracy_score(y_val, y_pred)\n",
        "print(f\"\\n📊 Accuracy en validación con SVM: {acc:.5f}\")\n",
        "\n",
        "# Entrenamiento final y predicción para Kaggle\n",
        "model.fit(X, y)\n",
        "y_test_pred = model.predict(test)\n",
        "\n",
        "# Generación del archivo de submission\n",
        "submission = pd.DataFrame({\n",
        "    \"ID\": test_ids,\n",
        "    \"RENDIMIENTO_GLOBAL\": y_test_pred\n",
        "})\n",
        "\n",
        "submission.to_csv(r\"C:\\Users\\juan2\\OneDrive\\Escritorio\\submission_svm.csv\", index=False)\n",
        "print(\"\\n✅ Archivo submission_svm.csv guardado correctamente.\")\n"
      ]
    }
  ]
}